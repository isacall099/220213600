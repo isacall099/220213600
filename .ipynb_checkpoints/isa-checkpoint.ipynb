{
 "cells": [
  {
   "cell_type": "code",
   "execution_count": 10,
   "id": "1e3e21e4",
   "metadata": {},
   "outputs": [],
   "source": [
    "import matplotlib.pyplot as plt\n",
    "import pandas as pd\n",
    "from sqlalchemy import create_engine\n",
    "import time\n",
    "import requests\n",
    "\n",
    "class DataHandler:\n",
    "    def __init__(self, db_name):\n",
    "        self.engine = create_engine(f'sqlite:///{db_name}')\n",
    "        self.url = \"https://www.deribit.com/api/v2/public/get_tradingview_chart_data\"\n",
    "        \n",
    "    def download(self, instrument_name):\n",
    "        msg = {\n",
    "                \"jsonrpc\" : \"2.0\",\n",
    "                \"id\" : 833,\n",
    "                \"method\" : \"public/get_tradingview_chart_data\",\n",
    "                \"params\" : {\n",
    "                \"instrument_name\" : instrument_name,\n",
    "                \"end_timestamp\": int(time.time() * 1000),  # In Epoch milliseconds\n",
    "                \"start_timestamp\": int((time.time() - 1e6) * 1000), # In Epoch milliseconds\n",
    "                \"resolution\" : \"60\"  # Minute data\n",
    "                }\n",
    "            }\n",
    "        response = requests.post(url, json=msg)\n",
    "        data = response.json()\n",
    "        ohlc = pd.DataFrame(data['result'])\n",
    "        ohlc['timestamp'] = pd.to_datetime(ohlc['ticks'], unit='ms')\n",
    "        ohlc['instrument_name'] = instrument_name\n",
    "        ohlc['resolution'] = 60\n",
    "        # Please note the if_exists='replace' ... one might if_exists='append' but need to check for duplicates!\n",
    "        ohlc.to_sql('ohlc', self.engine, if_exists='replace')\n",
    "        \n",
    "    def select(self, query):\n",
    "        return pd.read_sql(query, self.engine)\n",
    "        \n",
    "    def plot(self, query):\n",
    "        df = self.select(query)\n",
    "        df.plot()\n",
    "        plt.title(f'{query}')\n",
    "        plt.show()"
   ]
  }
 ],
 "metadata": {
  "kernelspec": {
   "display_name": "Python 3 (ipykernel)",
   "language": "python",
   "name": "python3"
  },
  "language_info": {
   "codemirror_mode": {
    "name": "ipython",
    "version": 3
   },
   "file_extension": ".py",
   "mimetype": "text/x-python",
   "name": "python",
   "nbconvert_exporter": "python",
   "pygments_lexer": "ipython3",
   "version": "3.10.9"
  }
 },
 "nbformat": 4,
 "nbformat_minor": 5
}
