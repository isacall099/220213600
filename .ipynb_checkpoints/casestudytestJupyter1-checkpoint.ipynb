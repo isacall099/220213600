{
 "cells": [
  {
   "cell_type": "code",
   "execution_count": null,
   "id": "1013fef2",
   "metadata": {},
   "outputs": [],
   "source": [
    "import requests \n",
    "import os\n",
    "import json \n",
    "import pandas as pd\n",
    "import numpy as np\n",
    "import matplotlib.pyplot as plt\n",
    "import time\n",
    "import sqlalchemy\n",
    "from sqlalchemy import create_engine\n",
    "import statsmodels.api as sm\n",
    "#!pip install deribit_api\n",
    "import deribit_api"
   ]
  },
  {
   "cell_type": "code",
   "execution_count": null,
   "id": "7a230c61",
   "metadata": {},
   "outputs": [],
   "source": [
    "# Step 1 Download data\n",
    "url = 'https://test.deribit.com/api/v2/'\n",
    "\n",
    "msg = {\n",
    "        \"jsonrpc\" : \"2.0\",\n",
    "        \"id\" : 833,\n",
    "        \"method\" : \"public/get_tradingview_chart_data\",\n",
    "        \"params\" : {\n",
    "        \"instrument_name\" : \"BTC-PERPETUAL\",\n",
    "        \"end_timestamp\": int(time.time() * 1000),  # In Epoch milliseconds\n",
    "        \"start_timestamp\": int((time.time() - 1e6) * 1000), # In Epoch milliseconds\n",
    "        \"resolution\" : \"1\"  # Minute data\n",
    "        }\n",
    "    }\n",
    "response = requests.post(url, json=msg)\n",
    "response = response.json()\n",
    "\n",
    "data = pd.DataFrame(response['result'])\n",
    "data['timestamp'] = pd.to_datetime(data['ticks'], unit='ms')\n",
    "data['instrument_name'] = \"BTC-PERPETUAL\"\n",
    "data['resolution'] = 1\n",
    "# Stuff we don't need\n",
    "data.drop(columns=['ticks', 'status'], inplace=True)\n",
    "# Display values\n",
    "display(data)"
   ]
  },
  {
   "cell_type": "code",
   "execution_count": null,
   "id": "f6e9cc35",
   "metadata": {},
   "outputs": [],
   "source": [
    "# Connect to deribit\n",
    "\n",
    "ClientID = \"IHH9YBRC\"\n",
    "ClientSecret = \"OkdPVfM5WlaJEq2-1cgJ6pX-ZdUqocRN3yPo7nOf1jI\"\n",
    "\n",
    "response = requests.get(\"https://test.deribit.com/api/v2/public/auth?client_id=\"+ClientID+\"&client_secret=\"+\n",
    "                        ClientSecret+\"&grant_type=client_credentials\")\n",
    "\n",
    "response_json = response.json()\n",
    "\n",
    "response_json[\"result\"]"
   ]
  },
  {
   "cell_type": "code",
   "execution_count": 4,
   "id": "dc64542d",
   "metadata": {},
   "outputs": [
    {
     "name": "stdout",
     "output_type": "stream",
     "text": [
      "         volume     open      low     high       cost    close  \\\n",
      "0     33.997622  30072.0  30072.0  30089.5  1022800.0  30080.5   \n",
      "1      3.020312  30080.0  30079.0  30089.5    90870.0  30089.5   \n",
      "2     45.400232  30090.0  30090.0  30140.5  1367360.0  30135.5   \n",
      "3     11.180786  30136.0  30136.0  30150.5   337030.0  30150.5   \n",
      "4     47.663713  30150.5  30145.5  30169.5  1437280.0  30151.5   \n",
      "...         ...      ...      ...      ...        ...      ...   \n",
      "4996  18.411380  29982.5  29982.5  29995.0   552130.0  29995.0   \n",
      "4997  13.583871  29997.5  29997.5  30000.0   407490.0  30000.0   \n",
      "4998   6.430865  29999.5  29997.5  30000.0   192920.0  29997.5   \n",
      "4999  10.451737  29997.5  29985.0  29997.5   313480.0  29985.0   \n",
      "5000   3.668166  29985.5  29985.0  29985.5   109990.0  29985.0   \n",
      "\n",
      "               timestamp instrument_name  resolution    sma_10     sma_20  \\\n",
      "0    2023-07-14 20:36:00   BTC-PERPETUAL           1       NaN        NaN   \n",
      "1    2023-07-14 20:37:00   BTC-PERPETUAL           1       NaN        NaN   \n",
      "2    2023-07-14 20:38:00   BTC-PERPETUAL           1       NaN        NaN   \n",
      "3    2023-07-14 20:39:00   BTC-PERPETUAL           1       NaN        NaN   \n",
      "4    2023-07-14 20:40:00   BTC-PERPETUAL           1       NaN        NaN   \n",
      "...                  ...             ...         ...       ...        ...   \n",
      "4996 2023-07-18 07:52:00   BTC-PERPETUAL           1  29983.75  30002.450   \n",
      "4997 2023-07-18 07:53:00   BTC-PERPETUAL           1  29983.45  30001.375   \n",
      "4998 2023-07-18 07:54:00   BTC-PERPETUAL           1  29982.90  29999.350   \n",
      "4999 2023-07-18 07:55:00   BTC-PERPETUAL           1  29981.55  29996.450   \n",
      "5000 2023-07-18 07:56:00   BTC-PERPETUAL           1  29981.10  29994.225   \n",
      "\n",
      "        sma_50  \n",
      "0          NaN  \n",
      "1          NaN  \n",
      "2          NaN  \n",
      "3          NaN  \n",
      "4          NaN  \n",
      "...        ...  \n",
      "4996  30020.45  \n",
      "4997  30019.94  \n",
      "4998  30019.39  \n",
      "4999  30019.28  \n",
      "5000  30018.80  \n",
      "\n",
      "[5001 rows x 12 columns]\n"
     ]
    }
   ],
   "source": [
    "# There is timestamp on the data and its clean so I dont need to do those steps. \n",
    "# Step 2 Moving averages\n",
    "\n",
    "# Assuming you have a DataFrame called 'data' with a column named 'close' containing the prices\n",
    "window_size_1 = 10  # First moving average window size\n",
    "window_size_2 = 20  # Second moving average window size\n",
    "window_size_3 = 50  # Third moving average window size\n",
    "\n",
    "# Calculate the moving averages using the rolling function\n",
    "data['sma_10'] = data['close'].rolling(window=window_size_1).mean()\n",
    "data['sma_20'] = data['close'].rolling(window=window_size_2).mean()\n",
    "data['sma_50'] = data['close'].rolling(window=window_size_3).mean()\n",
    "\n",
    "# Print the DataFrame with the moving averages\n",
    "print(data)\n",
    "# We receive empty values for first rows because there is no enough historical data\n",
    "# Drop rows with NaN values\n",
    "data = data.dropna()"
   ]
  },
  {
   "cell_type": "code",
   "execution_count": 5,
   "id": "7219ead9",
   "metadata": {},
   "outputs": [],
   "source": [
    "# function to obtain the current market price \n",
    "\n",
    "def get_market(instrument):\n",
    "    \n",
    "    # Define the URL of the endpoint\n",
    "    url = \"https://www.deribit.com/api/v2/public/get_book_summary_by_instrument\"\n",
    "\n",
    "    # Define the parameters\n",
    "    params = {\n",
    "        \"instrument_name\": instrument,  # Cryptocurrency to fetch data for\n",
    "    }\n",
    "\n",
    "    # Send the GET request; as public request, we don't have to authenticate\n",
    "    response = requests.get(url, params=params)\n",
    "\n",
    "    # Check if the request was successful\n",
    "    if response.status_code == 200:\n",
    "        data = response.json()  # Parse the response to JSON\n",
    "        print('Download market data was successful')  # Print the data\n",
    "    else:\n",
    "        print(f\"Failed to retrieve data: {response.status_code}\")\n",
    "\n",
    "    market_data = pd.DataFrame(data[\"result\"])\n",
    "\n",
    "    '''\n",
    "    extract the current market price and round it to the closest ten; \n",
    "    this is required as the contract size of Bitcoin Perpetuals are 10 USD \n",
    "    (see https://static.deribit.com/files/USDCContractSpecsandmargins.pdf)\n",
    "    '''\n",
    "    market_price = int(market_data['mark_price'].values[0].round(-1)) \n",
    "    \n",
    "    print(f\"Current market price: {market_price}\")\n",
    "    \n",
    "    return market_price\n"
   ]
  },
  {
   "cell_type": "code",
   "execution_count": 10,
   "id": "dea5e5e4",
   "metadata": {},
   "outputs": [
    {
     "name": "stdout",
     "output_type": "stream",
     "text": [
      "Download market data was successful\n",
      "Current market price: 29970\n",
      "Download market data was successful\n",
      "Current market price: 29970\n"
     ]
    }
   ],
   "source": [
    "# call function to obtain the current market price \n",
    "get_market(\"BTC-PERPETUAL\")\n",
    "def sell(params):\n",
    "    \n",
    "    # Define the URL of the endpoint \n",
    "    url = \"https://test.deribit.com/api/v2/private/sell\"\n",
    "\n",
    "    # Send the GET request\n",
    "    response = requests.get(url, params=params, auth=(ClientID, ClientSecret))\n",
    "    response_json = response.json()\n",
    "    \n",
    "    #if response.status_code == 200:\n",
    "       # data = response.json()  # Parse the response to JSON\n",
    "        #print(f\"Trade was successful: {data['result']}\")  \n",
    "   # else:\n",
    "        #print(f\"Failed to trade: {response.status_code}\")\n",
    "    if 'result' in response_json:\n",
    "        print(\"Sell order successfully executed\")\n",
    "    else:\n",
    "        print(\"Failed to execute sell order\")\n",
    "    # define the parameters \n",
    "params = {\n",
    "    \"amount\": get_market(\"BTC-PERPETUAL\"),\n",
    "    \"instrument_name\": \"BTC-PERPETUAL\",\n",
    "    \"type\": \"market\"\n",
    "    }"
   ]
  },
  {
   "cell_type": "code",
   "execution_count": 6,
   "id": "4a148450",
   "metadata": {},
   "outputs": [],
   "source": [
    "# Define the URL of the endpoint \n",
    "def buy(buy_params):\n",
    "    url = \"https://test.deribit.com/api/v2/private/buy\"\n",
    "\n",
    "    # Send the GET request\n",
    "    response = requests.get(url, params=buy_params, auth=(ClientID, ClientSecret))\n",
    "\n",
    "    response_json = response.json()\n",
    "\n",
    "    if 'result' in response_json:\n",
    "        print(\"Buy order successfully executed\")\n",
    "    else:\n",
    "        print(\"Failed to execute buy order\")\n",
    "# define the parameters \n",
    "buy_params = {\n",
    "    \"amount\": \"40\",\n",
    "    \"instrument_name\": \"BTC-PERPETUAL\",\n",
    "    \"label\": \"test01\",\n",
    "    \"type\": \"market\"\n",
    "    }\n"
   ]
  },
  {
   "cell_type": "code",
   "execution_count": 11,
   "id": "9498bc5b",
   "metadata": {
    "scrolled": true
   },
   "outputs": [
    {
     "name": "stdout",
     "output_type": "stream",
     "text": [
      "Buy order successfully executed\n",
      "Failed to execute sell order\n",
      "Buy order successfully executed\n",
      "Failed to execute sell order\n"
     ]
    },
    {
     "ename": "KeyboardInterrupt",
     "evalue": "",
     "output_type": "error",
     "traceback": [
      "\u001b[0;31m---------------------------------------------------------------------------\u001b[0m",
      "\u001b[0;31mKeyboardInterrupt\u001b[0m                         Traceback (most recent call last)",
      "Cell \u001b[0;32mIn[11], line 59\u001b[0m\n\u001b[1;32m     57\u001b[0m             profit_loss \u001b[38;5;241m=\u001b[39m sell_price \u001b[38;5;241m-\u001b[39m buy_price\n\u001b[1;32m     58\u001b[0m             capital \u001b[38;5;241m+\u001b[39m\u001b[38;5;241m=\u001b[39m profit_loss\n\u001b[0;32m---> 59\u001b[0m             \u001b[43mtime\u001b[49m\u001b[38;5;241;43m.\u001b[39;49m\u001b[43msleep\u001b[49m\u001b[43m(\u001b[49m\u001b[38;5;241;43m30\u001b[39;49m\u001b[43m)\u001b[49m\n\u001b[1;32m     61\u001b[0m \u001b[38;5;66;03m# Export the signals DataFrame to a CSV file\u001b[39;00m\n\u001b[1;32m     62\u001b[0m signals_df\u001b[38;5;241m.\u001b[39mto_csv(\u001b[38;5;124m'\u001b[39m\u001b[38;5;124msignals.csv\u001b[39m\u001b[38;5;124m'\u001b[39m, mode\u001b[38;5;241m=\u001b[39m\u001b[38;5;124m'\u001b[39m\u001b[38;5;124ma\u001b[39m\u001b[38;5;124m'\u001b[39m, header\u001b[38;5;241m=\u001b[39m\u001b[38;5;28;01mFalse\u001b[39;00m, index\u001b[38;5;241m=\u001b[39m\u001b[38;5;28;01mFalse\u001b[39;00m)\n",
      "\u001b[0;31mKeyboardInterrupt\u001b[0m: "
     ]
    }
   ],
   "source": [
    "import time\n",
    "import pandas as pd\n",
    "from datetime import datetime\n",
    "\n",
    "# Code to be iterated for a minute\n",
    "start_time = time.time()\n",
    "end_time = start_time + 60  # 60 seconds = 1 minute\n",
    "signals_df = pd.DataFrame(columns=['Timestamp', 'Readable Time', 'Signal', 'Price', 'Amount'])\n",
    "\n",
    "while True:\n",
    "    # Check if the current time exceeds the end time\n",
    "    if time.time() >= end_time:\n",
    "        break\n",
    "\n",
    "    # Define buy and sell signals based on moving averages and HP filter\n",
    "    data['buy_signal'] = np.where((data['close'] > data['sma_10']) & (data['sma_10'] > data['sma_20']) & (data['sma_20'] > data['sma_50']), 1, 0)\n",
    "    data['sell_signal'] = np.where((data['close'] < data['sma_10']) & (data['sma_10'] < data['sma_20']) & (data['sma_20'] < data['sma_50']), 1, 0)\n",
    "\n",
    "    capital = 10  # Initial capital\n",
    "    position = 0  # Current position (0: no position, 1: long position, -1: short position)\n",
    "    buy_price = 0  # Price at which the position is bought\n",
    "    sell_price = 0  # Price at which the position is sold\n",
    "    positions = []  # List to store position details\n",
    "\n",
    "    for i in range(len(data)):\n",
    "        # Check if the current time exceeds the end time\n",
    "        if time.time() >= end_time:\n",
    "            break\n",
    "\n",
    "        close_price = data['close'].iloc[i]\n",
    "        buy_signal = data['buy_signal'].iloc[i]\n",
    "        sell_signal = data['sell_signal'].iloc[i]\n",
    "\n",
    "        # Step 5.3: Buy signal\n",
    "        if buy_signal == 1 and position == 0:\n",
    "            position = 1  # Enter long position\n",
    "            buy_price = close_price\n",
    "            positions.append(('Buy', buy_price))\n",
    "            buy_amount = buy_params['amount']  # Retrieve the buy amount from the buy_params\n",
    "            buy(buy_params)\n",
    "            timestamp = time.time()\n",
    "            readable_time = datetime.fromtimestamp(timestamp).strftime('%Y-%m-%d %H:%M:%S')\n",
    "            signals_df = pd.concat([signals_df, pd.DataFrame({'Timestamp': [timestamp], 'Readable Time': [readable_time], 'Signal': ['Buy'], 'Price': [buy_price], 'Amount': [buy_amount]})], ignore_index=True)\n",
    "\n",
    "        # Step 5.4: Sell signal\n",
    "        elif sell_signal == 1 and position == 1:\n",
    "            position = 0  # Exit long position\n",
    "            sell_price = close_price\n",
    "            positions.append(('Sell', sell_price))\n",
    "            sell_amount = params['amount']  # Retrieve the sell amount from the sell_params\n",
    "            sell(params)\n",
    "            timestamp = time.time()\n",
    "            readable_time = datetime.fromtimestamp(timestamp).strftime('%Y-%m-%d %H:%M:%S')\n",
    "            signals_df = pd.concat([signals_df, pd.DataFrame({'Timestamp': [timestamp], 'Readable Time': [readable_time], 'Signal': ['Sell'], 'Price': [sell_price], 'Amount': [sell_amount]})], ignore_index=True)\n",
    "\n",
    "            # Calculate profit/loss\n",
    "            profit_loss = sell_price - buy_price\n",
    "            capital += profit_loss\n",
    "            time.sleep(30)\n",
    "\n",
    "# Export the signals DataFrame to a CSV file\n",
    "signals_df.to_csv('signals.csv', mode='a', header=False, index=False)\n",
    "print(\"Signals exported to signals.csv file.\")\n"
   ]
  },
  {
   "cell_type": "code",
   "execution_count": 94,
   "id": "83c2fadb",
   "metadata": {},
   "outputs": [
    {
     "name": "stdout",
     "output_type": "stream",
     "text": [
      "Current working directory: /Users/isa/Downloads/pythondataMLU220213600/220213600\n"
     ]
    }
   ],
   "source": [
    "current_directory = os.getcwd()\n",
    "print(\"Current working directory:\", current_directory)"
   ]
  },
  {
   "cell_type": "code",
   "execution_count": null,
   "id": "6db3c0c3",
   "metadata": {},
   "outputs": [
    {
     "name": "stdout",
     "output_type": "stream",
     "text": [
      "Failed to execute buy order\n"
     ]
    },
    {
     "name": "stderr",
     "output_type": "stream",
     "text": [
      "/var/folders/vm/6_hsdkkx0mvcy4lfpbfcsql40000gn/T/ipykernel_43483/576721178.py:43: FutureWarning: The frame.append method is deprecated and will be removed from pandas in a future version. Use pandas.concat instead.\n",
      "  executedsignals_df = signals_df.append({\n",
      "/var/folders/vm/6_hsdkkx0mvcy4lfpbfcsql40000gn/T/ipykernel_43483/576721178.py:62: FutureWarning: The frame.append method is deprecated and will be removed from pandas in a future version. Use pandas.concat instead.\n",
      "  signals_df = signals_df.append({\n"
     ]
    },
    {
     "name": "stdout",
     "output_type": "stream",
     "text": [
      "Failed to execute sell order\n",
      "Failed to execute buy order\n"
     ]
    },
    {
     "name": "stderr",
     "output_type": "stream",
     "text": [
      "/var/folders/vm/6_hsdkkx0mvcy4lfpbfcsql40000gn/T/ipykernel_43483/576721178.py:43: FutureWarning: The frame.append method is deprecated and will be removed from pandas in a future version. Use pandas.concat instead.\n",
      "  executedsignals_df = signals_df.append({\n",
      "/var/folders/vm/6_hsdkkx0mvcy4lfpbfcsql40000gn/T/ipykernel_43483/576721178.py:62: FutureWarning: The frame.append method is deprecated and will be removed from pandas in a future version. Use pandas.concat instead.\n",
      "  signals_df = signals_df.append({\n"
     ]
    },
    {
     "name": "stdout",
     "output_type": "stream",
     "text": [
      "Failed to execute sell order\n",
      "Failed to execute buy order\n"
     ]
    },
    {
     "name": "stderr",
     "output_type": "stream",
     "text": [
      "/var/folders/vm/6_hsdkkx0mvcy4lfpbfcsql40000gn/T/ipykernel_43483/576721178.py:43: FutureWarning: The frame.append method is deprecated and will be removed from pandas in a future version. Use pandas.concat instead.\n",
      "  executedsignals_df = signals_df.append({\n",
      "/var/folders/vm/6_hsdkkx0mvcy4lfpbfcsql40000gn/T/ipykernel_43483/576721178.py:62: FutureWarning: The frame.append method is deprecated and will be removed from pandas in a future version. Use pandas.concat instead.\n",
      "  signals_df = signals_df.append({\n"
     ]
    },
    {
     "name": "stdout",
     "output_type": "stream",
     "text": [
      "Failed to execute sell order\n",
      "Failed to execute buy order\n"
     ]
    },
    {
     "name": "stderr",
     "output_type": "stream",
     "text": [
      "/var/folders/vm/6_hsdkkx0mvcy4lfpbfcsql40000gn/T/ipykernel_43483/576721178.py:43: FutureWarning: The frame.append method is deprecated and will be removed from pandas in a future version. Use pandas.concat instead.\n",
      "  executedsignals_df = signals_df.append({\n",
      "/var/folders/vm/6_hsdkkx0mvcy4lfpbfcsql40000gn/T/ipykernel_43483/576721178.py:62: FutureWarning: The frame.append method is deprecated and will be removed from pandas in a future version. Use pandas.concat instead.\n",
      "  signals_df = signals_df.append({\n"
     ]
    },
    {
     "name": "stdout",
     "output_type": "stream",
     "text": [
      "Failed to execute sell order\n",
      "Failed to execute buy order\n"
     ]
    },
    {
     "name": "stderr",
     "output_type": "stream",
     "text": [
      "/var/folders/vm/6_hsdkkx0mvcy4lfpbfcsql40000gn/T/ipykernel_43483/576721178.py:43: FutureWarning: The frame.append method is deprecated and will be removed from pandas in a future version. Use pandas.concat instead.\n",
      "  executedsignals_df = signals_df.append({\n",
      "/var/folders/vm/6_hsdkkx0mvcy4lfpbfcsql40000gn/T/ipykernel_43483/576721178.py:62: FutureWarning: The frame.append method is deprecated and will be removed from pandas in a future version. Use pandas.concat instead.\n",
      "  signals_df = signals_df.append({\n"
     ]
    },
    {
     "name": "stdout",
     "output_type": "stream",
     "text": [
      "Failed to execute sell order\n",
      "Failed to execute buy order\n"
     ]
    },
    {
     "name": "stderr",
     "output_type": "stream",
     "text": [
      "/var/folders/vm/6_hsdkkx0mvcy4lfpbfcsql40000gn/T/ipykernel_43483/576721178.py:43: FutureWarning: The frame.append method is deprecated and will be removed from pandas in a future version. Use pandas.concat instead.\n",
      "  executedsignals_df = signals_df.append({\n",
      "/var/folders/vm/6_hsdkkx0mvcy4lfpbfcsql40000gn/T/ipykernel_43483/576721178.py:62: FutureWarning: The frame.append method is deprecated and will be removed from pandas in a future version. Use pandas.concat instead.\n",
      "  signals_df = signals_df.append({\n"
     ]
    },
    {
     "name": "stdout",
     "output_type": "stream",
     "text": [
      "Failed to execute sell order\n",
      "Failed to execute buy order\n"
     ]
    },
    {
     "name": "stderr",
     "output_type": "stream",
     "text": [
      "/var/folders/vm/6_hsdkkx0mvcy4lfpbfcsql40000gn/T/ipykernel_43483/576721178.py:43: FutureWarning: The frame.append method is deprecated and will be removed from pandas in a future version. Use pandas.concat instead.\n",
      "  executedsignals_df = signals_df.append({\n",
      "/var/folders/vm/6_hsdkkx0mvcy4lfpbfcsql40000gn/T/ipykernel_43483/576721178.py:62: FutureWarning: The frame.append method is deprecated and will be removed from pandas in a future version. Use pandas.concat instead.\n",
      "  signals_df = signals_df.append({\n"
     ]
    },
    {
     "name": "stdout",
     "output_type": "stream",
     "text": [
      "Failed to execute sell order\n",
      "Failed to execute buy order\n",
      "Failed to execute sell order\n"
     ]
    },
    {
     "name": "stderr",
     "output_type": "stream",
     "text": [
      "/var/folders/vm/6_hsdkkx0mvcy4lfpbfcsql40000gn/T/ipykernel_43483/576721178.py:43: FutureWarning: The frame.append method is deprecated and will be removed from pandas in a future version. Use pandas.concat instead.\n",
      "  executedsignals_df = signals_df.append({\n",
      "/var/folders/vm/6_hsdkkx0mvcy4lfpbfcsql40000gn/T/ipykernel_43483/576721178.py:62: FutureWarning: The frame.append method is deprecated and will be removed from pandas in a future version. Use pandas.concat instead.\n",
      "  signals_df = signals_df.append({\n"
     ]
    },
    {
     "name": "stdout",
     "output_type": "stream",
     "text": [
      "Failed to execute buy order\n",
      "Failed to execute sell order\n"
     ]
    },
    {
     "name": "stderr",
     "output_type": "stream",
     "text": [
      "/var/folders/vm/6_hsdkkx0mvcy4lfpbfcsql40000gn/T/ipykernel_43483/576721178.py:43: FutureWarning: The frame.append method is deprecated and will be removed from pandas in a future version. Use pandas.concat instead.\n",
      "  executedsignals_df = signals_df.append({\n",
      "/var/folders/vm/6_hsdkkx0mvcy4lfpbfcsql40000gn/T/ipykernel_43483/576721178.py:62: FutureWarning: The frame.append method is deprecated and will be removed from pandas in a future version. Use pandas.concat instead.\n",
      "  signals_df = signals_df.append({\n"
     ]
    },
    {
     "name": "stdout",
     "output_type": "stream",
     "text": [
      "Failed to execute buy order\n",
      "Failed to execute sell order\n"
     ]
    },
    {
     "name": "stderr",
     "output_type": "stream",
     "text": [
      "/var/folders/vm/6_hsdkkx0mvcy4lfpbfcsql40000gn/T/ipykernel_43483/576721178.py:43: FutureWarning: The frame.append method is deprecated and will be removed from pandas in a future version. Use pandas.concat instead.\n",
      "  executedsignals_df = signals_df.append({\n",
      "/var/folders/vm/6_hsdkkx0mvcy4lfpbfcsql40000gn/T/ipykernel_43483/576721178.py:62: FutureWarning: The frame.append method is deprecated and will be removed from pandas in a future version. Use pandas.concat instead.\n",
      "  signals_df = signals_df.append({\n"
     ]
    },
    {
     "name": "stdout",
     "output_type": "stream",
     "text": [
      "Failed to execute buy order\n",
      "Failed to execute sell order\n"
     ]
    },
    {
     "name": "stderr",
     "output_type": "stream",
     "text": [
      "/var/folders/vm/6_hsdkkx0mvcy4lfpbfcsql40000gn/T/ipykernel_43483/576721178.py:43: FutureWarning: The frame.append method is deprecated and will be removed from pandas in a future version. Use pandas.concat instead.\n",
      "  executedsignals_df = signals_df.append({\n",
      "/var/folders/vm/6_hsdkkx0mvcy4lfpbfcsql40000gn/T/ipykernel_43483/576721178.py:62: FutureWarning: The frame.append method is deprecated and will be removed from pandas in a future version. Use pandas.concat instead.\n",
      "  signals_df = signals_df.append({\n"
     ]
    },
    {
     "name": "stdout",
     "output_type": "stream",
     "text": [
      "Failed to execute buy order\n",
      "Failed to execute sell order\n"
     ]
    },
    {
     "name": "stderr",
     "output_type": "stream",
     "text": [
      "/var/folders/vm/6_hsdkkx0mvcy4lfpbfcsql40000gn/T/ipykernel_43483/576721178.py:43: FutureWarning: The frame.append method is deprecated and will be removed from pandas in a future version. Use pandas.concat instead.\n",
      "  executedsignals_df = signals_df.append({\n",
      "/var/folders/vm/6_hsdkkx0mvcy4lfpbfcsql40000gn/T/ipykernel_43483/576721178.py:62: FutureWarning: The frame.append method is deprecated and will be removed from pandas in a future version. Use pandas.concat instead.\n",
      "  signals_df = signals_df.append({\n"
     ]
    },
    {
     "name": "stdout",
     "output_type": "stream",
     "text": [
      "Failed to execute buy order\n",
      "Failed to execute sell order\n"
     ]
    },
    {
     "name": "stderr",
     "output_type": "stream",
     "text": [
      "/var/folders/vm/6_hsdkkx0mvcy4lfpbfcsql40000gn/T/ipykernel_43483/576721178.py:43: FutureWarning: The frame.append method is deprecated and will be removed from pandas in a future version. Use pandas.concat instead.\n",
      "  executedsignals_df = signals_df.append({\n",
      "/var/folders/vm/6_hsdkkx0mvcy4lfpbfcsql40000gn/T/ipykernel_43483/576721178.py:62: FutureWarning: The frame.append method is deprecated and will be removed from pandas in a future version. Use pandas.concat instead.\n",
      "  signals_df = signals_df.append({\n"
     ]
    },
    {
     "name": "stdout",
     "output_type": "stream",
     "text": [
      "Failed to execute buy order\n",
      "Failed to execute sell order\n"
     ]
    },
    {
     "name": "stderr",
     "output_type": "stream",
     "text": [
      "/var/folders/vm/6_hsdkkx0mvcy4lfpbfcsql40000gn/T/ipykernel_43483/576721178.py:43: FutureWarning: The frame.append method is deprecated and will be removed from pandas in a future version. Use pandas.concat instead.\n",
      "  executedsignals_df = signals_df.append({\n",
      "/var/folders/vm/6_hsdkkx0mvcy4lfpbfcsql40000gn/T/ipykernel_43483/576721178.py:62: FutureWarning: The frame.append method is deprecated and will be removed from pandas in a future version. Use pandas.concat instead.\n",
      "  signals_df = signals_df.append({\n"
     ]
    },
    {
     "name": "stdout",
     "output_type": "stream",
     "text": [
      "Failed to execute buy order\n",
      "Failed to execute sell order\n"
     ]
    },
    {
     "name": "stderr",
     "output_type": "stream",
     "text": [
      "/var/folders/vm/6_hsdkkx0mvcy4lfpbfcsql40000gn/T/ipykernel_43483/576721178.py:43: FutureWarning: The frame.append method is deprecated and will be removed from pandas in a future version. Use pandas.concat instead.\n",
      "  executedsignals_df = signals_df.append({\n",
      "/var/folders/vm/6_hsdkkx0mvcy4lfpbfcsql40000gn/T/ipykernel_43483/576721178.py:62: FutureWarning: The frame.append method is deprecated and will be removed from pandas in a future version. Use pandas.concat instead.\n",
      "  signals_df = signals_df.append({\n"
     ]
    },
    {
     "name": "stdout",
     "output_type": "stream",
     "text": [
      "Failed to execute buy order\n",
      "Failed to execute sell order\n"
     ]
    },
    {
     "name": "stderr",
     "output_type": "stream",
     "text": [
      "/var/folders/vm/6_hsdkkx0mvcy4lfpbfcsql40000gn/T/ipykernel_43483/576721178.py:43: FutureWarning: The frame.append method is deprecated and will be removed from pandas in a future version. Use pandas.concat instead.\n",
      "  executedsignals_df = signals_df.append({\n",
      "/var/folders/vm/6_hsdkkx0mvcy4lfpbfcsql40000gn/T/ipykernel_43483/576721178.py:62: FutureWarning: The frame.append method is deprecated and will be removed from pandas in a future version. Use pandas.concat instead.\n",
      "  signals_df = signals_df.append({\n"
     ]
    },
    {
     "name": "stdout",
     "output_type": "stream",
     "text": [
      "Failed to execute buy order\n",
      "Failed to execute sell order\n"
     ]
    },
    {
     "name": "stderr",
     "output_type": "stream",
     "text": [
      "/var/folders/vm/6_hsdkkx0mvcy4lfpbfcsql40000gn/T/ipykernel_43483/576721178.py:43: FutureWarning: The frame.append method is deprecated and will be removed from pandas in a future version. Use pandas.concat instead.\n",
      "  executedsignals_df = signals_df.append({\n",
      "/var/folders/vm/6_hsdkkx0mvcy4lfpbfcsql40000gn/T/ipykernel_43483/576721178.py:62: FutureWarning: The frame.append method is deprecated and will be removed from pandas in a future version. Use pandas.concat instead.\n",
      "  signals_df = signals_df.append({\n"
     ]
    },
    {
     "name": "stdout",
     "output_type": "stream",
     "text": [
      "Failed to execute buy order\n",
      "Failed to execute sell order\n"
     ]
    },
    {
     "name": "stderr",
     "output_type": "stream",
     "text": [
      "/var/folders/vm/6_hsdkkx0mvcy4lfpbfcsql40000gn/T/ipykernel_43483/576721178.py:43: FutureWarning: The frame.append method is deprecated and will be removed from pandas in a future version. Use pandas.concat instead.\n",
      "  executedsignals_df = signals_df.append({\n",
      "/var/folders/vm/6_hsdkkx0mvcy4lfpbfcsql40000gn/T/ipykernel_43483/576721178.py:62: FutureWarning: The frame.append method is deprecated and will be removed from pandas in a future version. Use pandas.concat instead.\n",
      "  signals_df = signals_df.append({\n"
     ]
    },
    {
     "name": "stdout",
     "output_type": "stream",
     "text": [
      "Failed to execute buy order\n",
      "Failed to execute sell order\n"
     ]
    },
    {
     "name": "stderr",
     "output_type": "stream",
     "text": [
      "/var/folders/vm/6_hsdkkx0mvcy4lfpbfcsql40000gn/T/ipykernel_43483/576721178.py:43: FutureWarning: The frame.append method is deprecated and will be removed from pandas in a future version. Use pandas.concat instead.\n",
      "  executedsignals_df = signals_df.append({\n",
      "/var/folders/vm/6_hsdkkx0mvcy4lfpbfcsql40000gn/T/ipykernel_43483/576721178.py:62: FutureWarning: The frame.append method is deprecated and will be removed from pandas in a future version. Use pandas.concat instead.\n",
      "  signals_df = signals_df.append({\n"
     ]
    },
    {
     "name": "stdout",
     "output_type": "stream",
     "text": [
      "Failed to execute buy order\n",
      "Failed to execute sell order\n"
     ]
    },
    {
     "name": "stderr",
     "output_type": "stream",
     "text": [
      "/var/folders/vm/6_hsdkkx0mvcy4lfpbfcsql40000gn/T/ipykernel_43483/576721178.py:43: FutureWarning: The frame.append method is deprecated and will be removed from pandas in a future version. Use pandas.concat instead.\n",
      "  executedsignals_df = signals_df.append({\n",
      "/var/folders/vm/6_hsdkkx0mvcy4lfpbfcsql40000gn/T/ipykernel_43483/576721178.py:62: FutureWarning: The frame.append method is deprecated and will be removed from pandas in a future version. Use pandas.concat instead.\n",
      "  signals_df = signals_df.append({\n"
     ]
    },
    {
     "name": "stdout",
     "output_type": "stream",
     "text": [
      "Failed to execute buy order\n"
     ]
    },
    {
     "name": "stderr",
     "output_type": "stream",
     "text": [
      "/var/folders/vm/6_hsdkkx0mvcy4lfpbfcsql40000gn/T/ipykernel_43483/576721178.py:43: FutureWarning: The frame.append method is deprecated and will be removed from pandas in a future version. Use pandas.concat instead.\n",
      "  executedsignals_df = signals_df.append({\n"
     ]
    },
    {
     "name": "stdout",
     "output_type": "stream",
     "text": [
      "Failed to execute sell order\n",
      "Failed to execute buy order\n"
     ]
    },
    {
     "name": "stderr",
     "output_type": "stream",
     "text": [
      "/var/folders/vm/6_hsdkkx0mvcy4lfpbfcsql40000gn/T/ipykernel_43483/576721178.py:62: FutureWarning: The frame.append method is deprecated and will be removed from pandas in a future version. Use pandas.concat instead.\n",
      "  signals_df = signals_df.append({\n",
      "/var/folders/vm/6_hsdkkx0mvcy4lfpbfcsql40000gn/T/ipykernel_43483/576721178.py:43: FutureWarning: The frame.append method is deprecated and will be removed from pandas in a future version. Use pandas.concat instead.\n",
      "  executedsignals_df = signals_df.append({\n"
     ]
    },
    {
     "name": "stdout",
     "output_type": "stream",
     "text": [
      "Failed to execute sell order\n",
      "Failed to execute buy order\n"
     ]
    },
    {
     "name": "stderr",
     "output_type": "stream",
     "text": [
      "/var/folders/vm/6_hsdkkx0mvcy4lfpbfcsql40000gn/T/ipykernel_43483/576721178.py:62: FutureWarning: The frame.append method is deprecated and will be removed from pandas in a future version. Use pandas.concat instead.\n",
      "  signals_df = signals_df.append({\n",
      "/var/folders/vm/6_hsdkkx0mvcy4lfpbfcsql40000gn/T/ipykernel_43483/576721178.py:43: FutureWarning: The frame.append method is deprecated and will be removed from pandas in a future version. Use pandas.concat instead.\n",
      "  executedsignals_df = signals_df.append({\n"
     ]
    },
    {
     "name": "stdout",
     "output_type": "stream",
     "text": [
      "Failed to execute sell order\n",
      "Failed to execute buy order\n"
     ]
    },
    {
     "name": "stderr",
     "output_type": "stream",
     "text": [
      "/var/folders/vm/6_hsdkkx0mvcy4lfpbfcsql40000gn/T/ipykernel_43483/576721178.py:62: FutureWarning: The frame.append method is deprecated and will be removed from pandas in a future version. Use pandas.concat instead.\n",
      "  signals_df = signals_df.append({\n",
      "/var/folders/vm/6_hsdkkx0mvcy4lfpbfcsql40000gn/T/ipykernel_43483/576721178.py:43: FutureWarning: The frame.append method is deprecated and will be removed from pandas in a future version. Use pandas.concat instead.\n",
      "  executedsignals_df = signals_df.append({\n"
     ]
    },
    {
     "name": "stdout",
     "output_type": "stream",
     "text": [
      "Failed to execute sell order\n",
      "Failed to execute buy order\n"
     ]
    },
    {
     "name": "stderr",
     "output_type": "stream",
     "text": [
      "/var/folders/vm/6_hsdkkx0mvcy4lfpbfcsql40000gn/T/ipykernel_43483/576721178.py:62: FutureWarning: The frame.append method is deprecated and will be removed from pandas in a future version. Use pandas.concat instead.\n",
      "  signals_df = signals_df.append({\n",
      "/var/folders/vm/6_hsdkkx0mvcy4lfpbfcsql40000gn/T/ipykernel_43483/576721178.py:43: FutureWarning: The frame.append method is deprecated and will be removed from pandas in a future version. Use pandas.concat instead.\n",
      "  executedsignals_df = signals_df.append({\n"
     ]
    },
    {
     "name": "stdout",
     "output_type": "stream",
     "text": [
      "Failed to execute sell order\n",
      "Failed to execute buy order\n"
     ]
    },
    {
     "name": "stderr",
     "output_type": "stream",
     "text": [
      "/var/folders/vm/6_hsdkkx0mvcy4lfpbfcsql40000gn/T/ipykernel_43483/576721178.py:62: FutureWarning: The frame.append method is deprecated and will be removed from pandas in a future version. Use pandas.concat instead.\n",
      "  signals_df = signals_df.append({\n",
      "/var/folders/vm/6_hsdkkx0mvcy4lfpbfcsql40000gn/T/ipykernel_43483/576721178.py:43: FutureWarning: The frame.append method is deprecated and will be removed from pandas in a future version. Use pandas.concat instead.\n",
      "  executedsignals_df = signals_df.append({\n"
     ]
    },
    {
     "name": "stdout",
     "output_type": "stream",
     "text": [
      "Failed to execute sell order\n",
      "Failed to execute buy order\n"
     ]
    },
    {
     "name": "stderr",
     "output_type": "stream",
     "text": [
      "/var/folders/vm/6_hsdkkx0mvcy4lfpbfcsql40000gn/T/ipykernel_43483/576721178.py:62: FutureWarning: The frame.append method is deprecated and will be removed from pandas in a future version. Use pandas.concat instead.\n",
      "  signals_df = signals_df.append({\n",
      "/var/folders/vm/6_hsdkkx0mvcy4lfpbfcsql40000gn/T/ipykernel_43483/576721178.py:43: FutureWarning: The frame.append method is deprecated and will be removed from pandas in a future version. Use pandas.concat instead.\n",
      "  executedsignals_df = signals_df.append({\n"
     ]
    },
    {
     "name": "stdout",
     "output_type": "stream",
     "text": [
      "Failed to execute sell order\n",
      "Failed to execute buy order\n"
     ]
    },
    {
     "name": "stderr",
     "output_type": "stream",
     "text": [
      "/var/folders/vm/6_hsdkkx0mvcy4lfpbfcsql40000gn/T/ipykernel_43483/576721178.py:62: FutureWarning: The frame.append method is deprecated and will be removed from pandas in a future version. Use pandas.concat instead.\n",
      "  signals_df = signals_df.append({\n",
      "/var/folders/vm/6_hsdkkx0mvcy4lfpbfcsql40000gn/T/ipykernel_43483/576721178.py:43: FutureWarning: The frame.append method is deprecated and will be removed from pandas in a future version. Use pandas.concat instead.\n",
      "  executedsignals_df = signals_df.append({\n"
     ]
    },
    {
     "name": "stdout",
     "output_type": "stream",
     "text": [
      "Failed to execute sell order\n",
      "Failed to execute buy order\n"
     ]
    },
    {
     "name": "stderr",
     "output_type": "stream",
     "text": [
      "/var/folders/vm/6_hsdkkx0mvcy4lfpbfcsql40000gn/T/ipykernel_43483/576721178.py:62: FutureWarning: The frame.append method is deprecated and will be removed from pandas in a future version. Use pandas.concat instead.\n",
      "  signals_df = signals_df.append({\n",
      "/var/folders/vm/6_hsdkkx0mvcy4lfpbfcsql40000gn/T/ipykernel_43483/576721178.py:43: FutureWarning: The frame.append method is deprecated and will be removed from pandas in a future version. Use pandas.concat instead.\n",
      "  executedsignals_df = signals_df.append({\n"
     ]
    },
    {
     "name": "stdout",
     "output_type": "stream",
     "text": [
      "Failed to execute sell order\n",
      "Failed to execute buy order\n"
     ]
    },
    {
     "name": "stderr",
     "output_type": "stream",
     "text": [
      "/var/folders/vm/6_hsdkkx0mvcy4lfpbfcsql40000gn/T/ipykernel_43483/576721178.py:62: FutureWarning: The frame.append method is deprecated and will be removed from pandas in a future version. Use pandas.concat instead.\n",
      "  signals_df = signals_df.append({\n",
      "/var/folders/vm/6_hsdkkx0mvcy4lfpbfcsql40000gn/T/ipykernel_43483/576721178.py:43: FutureWarning: The frame.append method is deprecated and will be removed from pandas in a future version. Use pandas.concat instead.\n",
      "  executedsignals_df = signals_df.append({\n"
     ]
    },
    {
     "name": "stdout",
     "output_type": "stream",
     "text": [
      "Failed to execute sell order\n",
      "Failed to execute buy order\n"
     ]
    },
    {
     "name": "stderr",
     "output_type": "stream",
     "text": [
      "/var/folders/vm/6_hsdkkx0mvcy4lfpbfcsql40000gn/T/ipykernel_43483/576721178.py:62: FutureWarning: The frame.append method is deprecated and will be removed from pandas in a future version. Use pandas.concat instead.\n",
      "  signals_df = signals_df.append({\n",
      "/var/folders/vm/6_hsdkkx0mvcy4lfpbfcsql40000gn/T/ipykernel_43483/576721178.py:43: FutureWarning: The frame.append method is deprecated and will be removed from pandas in a future version. Use pandas.concat instead.\n",
      "  executedsignals_df = signals_df.append({\n"
     ]
    },
    {
     "name": "stdout",
     "output_type": "stream",
     "text": [
      "Failed to execute sell order\n",
      "Failed to execute buy order\n"
     ]
    },
    {
     "name": "stderr",
     "output_type": "stream",
     "text": [
      "/var/folders/vm/6_hsdkkx0mvcy4lfpbfcsql40000gn/T/ipykernel_43483/576721178.py:62: FutureWarning: The frame.append method is deprecated and will be removed from pandas in a future version. Use pandas.concat instead.\n",
      "  signals_df = signals_df.append({\n",
      "/var/folders/vm/6_hsdkkx0mvcy4lfpbfcsql40000gn/T/ipykernel_43483/576721178.py:43: FutureWarning: The frame.append method is deprecated and will be removed from pandas in a future version. Use pandas.concat instead.\n",
      "  executedsignals_df = signals_df.append({\n"
     ]
    },
    {
     "name": "stdout",
     "output_type": "stream",
     "text": [
      "Failed to execute sell order\n",
      "Failed to execute buy order\n"
     ]
    },
    {
     "name": "stderr",
     "output_type": "stream",
     "text": [
      "/var/folders/vm/6_hsdkkx0mvcy4lfpbfcsql40000gn/T/ipykernel_43483/576721178.py:62: FutureWarning: The frame.append method is deprecated and will be removed from pandas in a future version. Use pandas.concat instead.\n",
      "  signals_df = signals_df.append({\n",
      "/var/folders/vm/6_hsdkkx0mvcy4lfpbfcsql40000gn/T/ipykernel_43483/576721178.py:43: FutureWarning: The frame.append method is deprecated and will be removed from pandas in a future version. Use pandas.concat instead.\n",
      "  executedsignals_df = signals_df.append({\n"
     ]
    },
    {
     "name": "stdout",
     "output_type": "stream",
     "text": [
      "Failed to execute sell order\n",
      "Failed to execute buy order\n"
     ]
    },
    {
     "name": "stderr",
     "output_type": "stream",
     "text": [
      "/var/folders/vm/6_hsdkkx0mvcy4lfpbfcsql40000gn/T/ipykernel_43483/576721178.py:62: FutureWarning: The frame.append method is deprecated and will be removed from pandas in a future version. Use pandas.concat instead.\n",
      "  signals_df = signals_df.append({\n",
      "/var/folders/vm/6_hsdkkx0mvcy4lfpbfcsql40000gn/T/ipykernel_43483/576721178.py:43: FutureWarning: The frame.append method is deprecated and will be removed from pandas in a future version. Use pandas.concat instead.\n",
      "  executedsignals_df = signals_df.append({\n"
     ]
    },
    {
     "name": "stdout",
     "output_type": "stream",
     "text": [
      "Failed to execute sell order\n",
      "Failed to execute buy order\n"
     ]
    },
    {
     "name": "stderr",
     "output_type": "stream",
     "text": [
      "/var/folders/vm/6_hsdkkx0mvcy4lfpbfcsql40000gn/T/ipykernel_43483/576721178.py:62: FutureWarning: The frame.append method is deprecated and will be removed from pandas in a future version. Use pandas.concat instead.\n",
      "  signals_df = signals_df.append({\n",
      "/var/folders/vm/6_hsdkkx0mvcy4lfpbfcsql40000gn/T/ipykernel_43483/576721178.py:43: FutureWarning: The frame.append method is deprecated and will be removed from pandas in a future version. Use pandas.concat instead.\n",
      "  executedsignals_df = signals_df.append({\n"
     ]
    },
    {
     "name": "stdout",
     "output_type": "stream",
     "text": [
      "Failed to execute sell order\n",
      "Failed to execute buy order\n"
     ]
    },
    {
     "name": "stderr",
     "output_type": "stream",
     "text": [
      "/var/folders/vm/6_hsdkkx0mvcy4lfpbfcsql40000gn/T/ipykernel_43483/576721178.py:62: FutureWarning: The frame.append method is deprecated and will be removed from pandas in a future version. Use pandas.concat instead.\n",
      "  signals_df = signals_df.append({\n",
      "/var/folders/vm/6_hsdkkx0mvcy4lfpbfcsql40000gn/T/ipykernel_43483/576721178.py:43: FutureWarning: The frame.append method is deprecated and will be removed from pandas in a future version. Use pandas.concat instead.\n",
      "  executedsignals_df = signals_df.append({\n"
     ]
    },
    {
     "name": "stdout",
     "output_type": "stream",
     "text": [
      "Failed to execute sell order\n",
      "Failed to execute buy order\n"
     ]
    },
    {
     "name": "stderr",
     "output_type": "stream",
     "text": [
      "/var/folders/vm/6_hsdkkx0mvcy4lfpbfcsql40000gn/T/ipykernel_43483/576721178.py:62: FutureWarning: The frame.append method is deprecated and will be removed from pandas in a future version. Use pandas.concat instead.\n",
      "  signals_df = signals_df.append({\n",
      "/var/folders/vm/6_hsdkkx0mvcy4lfpbfcsql40000gn/T/ipykernel_43483/576721178.py:43: FutureWarning: The frame.append method is deprecated and will be removed from pandas in a future version. Use pandas.concat instead.\n",
      "  executedsignals_df = signals_df.append({\n"
     ]
    },
    {
     "name": "stdout",
     "output_type": "stream",
     "text": [
      "Failed to execute sell order\n",
      "Failed to execute buy order\n"
     ]
    },
    {
     "name": "stderr",
     "output_type": "stream",
     "text": [
      "/var/folders/vm/6_hsdkkx0mvcy4lfpbfcsql40000gn/T/ipykernel_43483/576721178.py:62: FutureWarning: The frame.append method is deprecated and will be removed from pandas in a future version. Use pandas.concat instead.\n",
      "  signals_df = signals_df.append({\n",
      "/var/folders/vm/6_hsdkkx0mvcy4lfpbfcsql40000gn/T/ipykernel_43483/576721178.py:43: FutureWarning: The frame.append method is deprecated and will be removed from pandas in a future version. Use pandas.concat instead.\n",
      "  executedsignals_df = signals_df.append({\n"
     ]
    },
    {
     "name": "stdout",
     "output_type": "stream",
     "text": [
      "Failed to execute sell order\n",
      "Failed to execute buy order\n"
     ]
    },
    {
     "name": "stderr",
     "output_type": "stream",
     "text": [
      "/var/folders/vm/6_hsdkkx0mvcy4lfpbfcsql40000gn/T/ipykernel_43483/576721178.py:62: FutureWarning: The frame.append method is deprecated and will be removed from pandas in a future version. Use pandas.concat instead.\n",
      "  signals_df = signals_df.append({\n",
      "/var/folders/vm/6_hsdkkx0mvcy4lfpbfcsql40000gn/T/ipykernel_43483/576721178.py:43: FutureWarning: The frame.append method is deprecated and will be removed from pandas in a future version. Use pandas.concat instead.\n",
      "  executedsignals_df = signals_df.append({\n"
     ]
    },
    {
     "name": "stdout",
     "output_type": "stream",
     "text": [
      "Failed to execute sell order\n",
      "Failed to execute buy order\n"
     ]
    },
    {
     "name": "stderr",
     "output_type": "stream",
     "text": [
      "/var/folders/vm/6_hsdkkx0mvcy4lfpbfcsql40000gn/T/ipykernel_43483/576721178.py:62: FutureWarning: The frame.append method is deprecated and will be removed from pandas in a future version. Use pandas.concat instead.\n",
      "  signals_df = signals_df.append({\n",
      "/var/folders/vm/6_hsdkkx0mvcy4lfpbfcsql40000gn/T/ipykernel_43483/576721178.py:43: FutureWarning: The frame.append method is deprecated and will be removed from pandas in a future version. Use pandas.concat instead.\n",
      "  executedsignals_df = signals_df.append({\n"
     ]
    },
    {
     "name": "stdout",
     "output_type": "stream",
     "text": [
      "Failed to execute sell order\n"
     ]
    },
    {
     "name": "stderr",
     "output_type": "stream",
     "text": [
      "/var/folders/vm/6_hsdkkx0mvcy4lfpbfcsql40000gn/T/ipykernel_43483/576721178.py:62: FutureWarning: The frame.append method is deprecated and will be removed from pandas in a future version. Use pandas.concat instead.\n",
      "  signals_df = signals_df.append({\n"
     ]
    },
    {
     "name": "stdout",
     "output_type": "stream",
     "text": [
      "Failed to execute buy order\n",
      "Failed to execute sell order\n"
     ]
    },
    {
     "name": "stderr",
     "output_type": "stream",
     "text": [
      "/var/folders/vm/6_hsdkkx0mvcy4lfpbfcsql40000gn/T/ipykernel_43483/576721178.py:43: FutureWarning: The frame.append method is deprecated and will be removed from pandas in a future version. Use pandas.concat instead.\n",
      "  executedsignals_df = signals_df.append({\n",
      "/var/folders/vm/6_hsdkkx0mvcy4lfpbfcsql40000gn/T/ipykernel_43483/576721178.py:62: FutureWarning: The frame.append method is deprecated and will be removed from pandas in a future version. Use pandas.concat instead.\n",
      "  signals_df = signals_df.append({\n"
     ]
    },
    {
     "name": "stdout",
     "output_type": "stream",
     "text": [
      "Failed to execute buy order\n",
      "Failed to execute sell order\n"
     ]
    },
    {
     "name": "stderr",
     "output_type": "stream",
     "text": [
      "/var/folders/vm/6_hsdkkx0mvcy4lfpbfcsql40000gn/T/ipykernel_43483/576721178.py:43: FutureWarning: The frame.append method is deprecated and will be removed from pandas in a future version. Use pandas.concat instead.\n",
      "  executedsignals_df = signals_df.append({\n",
      "/var/folders/vm/6_hsdkkx0mvcy4lfpbfcsql40000gn/T/ipykernel_43483/576721178.py:62: FutureWarning: The frame.append method is deprecated and will be removed from pandas in a future version. Use pandas.concat instead.\n",
      "  signals_df = signals_df.append({\n"
     ]
    },
    {
     "name": "stdout",
     "output_type": "stream",
     "text": [
      "Failed to execute buy order\n",
      "Failed to execute sell order\n"
     ]
    },
    {
     "name": "stderr",
     "output_type": "stream",
     "text": [
      "/var/folders/vm/6_hsdkkx0mvcy4lfpbfcsql40000gn/T/ipykernel_43483/576721178.py:43: FutureWarning: The frame.append method is deprecated and will be removed from pandas in a future version. Use pandas.concat instead.\n",
      "  executedsignals_df = signals_df.append({\n",
      "/var/folders/vm/6_hsdkkx0mvcy4lfpbfcsql40000gn/T/ipykernel_43483/576721178.py:62: FutureWarning: The frame.append method is deprecated and will be removed from pandas in a future version. Use pandas.concat instead.\n",
      "  signals_df = signals_df.append({\n"
     ]
    },
    {
     "name": "stdout",
     "output_type": "stream",
     "text": [
      "Failed to execute buy order\n",
      "Failed to execute sell order\n"
     ]
    },
    {
     "name": "stderr",
     "output_type": "stream",
     "text": [
      "/var/folders/vm/6_hsdkkx0mvcy4lfpbfcsql40000gn/T/ipykernel_43483/576721178.py:43: FutureWarning: The frame.append method is deprecated and will be removed from pandas in a future version. Use pandas.concat instead.\n",
      "  executedsignals_df = signals_df.append({\n",
      "/var/folders/vm/6_hsdkkx0mvcy4lfpbfcsql40000gn/T/ipykernel_43483/576721178.py:62: FutureWarning: The frame.append method is deprecated and will be removed from pandas in a future version. Use pandas.concat instead.\n",
      "  signals_df = signals_df.append({\n"
     ]
    },
    {
     "name": "stdout",
     "output_type": "stream",
     "text": [
      "Failed to execute buy order\n",
      "Failed to execute sell order\n"
     ]
    },
    {
     "name": "stderr",
     "output_type": "stream",
     "text": [
      "/var/folders/vm/6_hsdkkx0mvcy4lfpbfcsql40000gn/T/ipykernel_43483/576721178.py:43: FutureWarning: The frame.append method is deprecated and will be removed from pandas in a future version. Use pandas.concat instead.\n",
      "  executedsignals_df = signals_df.append({\n",
      "/var/folders/vm/6_hsdkkx0mvcy4lfpbfcsql40000gn/T/ipykernel_43483/576721178.py:62: FutureWarning: The frame.append method is deprecated and will be removed from pandas in a future version. Use pandas.concat instead.\n",
      "  signals_df = signals_df.append({\n"
     ]
    },
    {
     "name": "stdout",
     "output_type": "stream",
     "text": [
      "Failed to execute buy order\n",
      "Failed to execute sell order\n"
     ]
    },
    {
     "name": "stderr",
     "output_type": "stream",
     "text": [
      "/var/folders/vm/6_hsdkkx0mvcy4lfpbfcsql40000gn/T/ipykernel_43483/576721178.py:43: FutureWarning: The frame.append method is deprecated and will be removed from pandas in a future version. Use pandas.concat instead.\n",
      "  executedsignals_df = signals_df.append({\n",
      "/var/folders/vm/6_hsdkkx0mvcy4lfpbfcsql40000gn/T/ipykernel_43483/576721178.py:62: FutureWarning: The frame.append method is deprecated and will be removed from pandas in a future version. Use pandas.concat instead.\n",
      "  signals_df = signals_df.append({\n"
     ]
    },
    {
     "name": "stdout",
     "output_type": "stream",
     "text": [
      "Failed to execute buy order\n",
      "Failed to execute sell order\n"
     ]
    },
    {
     "name": "stderr",
     "output_type": "stream",
     "text": [
      "/var/folders/vm/6_hsdkkx0mvcy4lfpbfcsql40000gn/T/ipykernel_43483/576721178.py:43: FutureWarning: The frame.append method is deprecated and will be removed from pandas in a future version. Use pandas.concat instead.\n",
      "  executedsignals_df = signals_df.append({\n",
      "/var/folders/vm/6_hsdkkx0mvcy4lfpbfcsql40000gn/T/ipykernel_43483/576721178.py:62: FutureWarning: The frame.append method is deprecated and will be removed from pandas in a future version. Use pandas.concat instead.\n",
      "  signals_df = signals_df.append({\n"
     ]
    },
    {
     "name": "stdout",
     "output_type": "stream",
     "text": [
      "Failed to execute buy order\n",
      "Failed to execute sell order\n"
     ]
    },
    {
     "name": "stderr",
     "output_type": "stream",
     "text": [
      "/var/folders/vm/6_hsdkkx0mvcy4lfpbfcsql40000gn/T/ipykernel_43483/576721178.py:43: FutureWarning: The frame.append method is deprecated and will be removed from pandas in a future version. Use pandas.concat instead.\n",
      "  executedsignals_df = signals_df.append({\n",
      "/var/folders/vm/6_hsdkkx0mvcy4lfpbfcsql40000gn/T/ipykernel_43483/576721178.py:62: FutureWarning: The frame.append method is deprecated and will be removed from pandas in a future version. Use pandas.concat instead.\n",
      "  signals_df = signals_df.append({\n"
     ]
    },
    {
     "name": "stdout",
     "output_type": "stream",
     "text": [
      "Failed to execute buy order\n",
      "Failed to execute sell order\n"
     ]
    },
    {
     "name": "stderr",
     "output_type": "stream",
     "text": [
      "/var/folders/vm/6_hsdkkx0mvcy4lfpbfcsql40000gn/T/ipykernel_43483/576721178.py:43: FutureWarning: The frame.append method is deprecated and will be removed from pandas in a future version. Use pandas.concat instead.\n",
      "  executedsignals_df = signals_df.append({\n",
      "/var/folders/vm/6_hsdkkx0mvcy4lfpbfcsql40000gn/T/ipykernel_43483/576721178.py:62: FutureWarning: The frame.append method is deprecated and will be removed from pandas in a future version. Use pandas.concat instead.\n",
      "  signals_df = signals_df.append({\n"
     ]
    },
    {
     "name": "stdout",
     "output_type": "stream",
     "text": [
      "Failed to execute buy order\n",
      "Failed to execute sell order\n"
     ]
    },
    {
     "name": "stderr",
     "output_type": "stream",
     "text": [
      "/var/folders/vm/6_hsdkkx0mvcy4lfpbfcsql40000gn/T/ipykernel_43483/576721178.py:43: FutureWarning: The frame.append method is deprecated and will be removed from pandas in a future version. Use pandas.concat instead.\n",
      "  executedsignals_df = signals_df.append({\n",
      "/var/folders/vm/6_hsdkkx0mvcy4lfpbfcsql40000gn/T/ipykernel_43483/576721178.py:62: FutureWarning: The frame.append method is deprecated and will be removed from pandas in a future version. Use pandas.concat instead.\n",
      "  signals_df = signals_df.append({\n"
     ]
    },
    {
     "name": "stdout",
     "output_type": "stream",
     "text": [
      "Failed to execute buy order\n",
      "Failed to execute sell order\n"
     ]
    },
    {
     "name": "stderr",
     "output_type": "stream",
     "text": [
      "/var/folders/vm/6_hsdkkx0mvcy4lfpbfcsql40000gn/T/ipykernel_43483/576721178.py:43: FutureWarning: The frame.append method is deprecated and will be removed from pandas in a future version. Use pandas.concat instead.\n",
      "  executedsignals_df = signals_df.append({\n",
      "/var/folders/vm/6_hsdkkx0mvcy4lfpbfcsql40000gn/T/ipykernel_43483/576721178.py:62: FutureWarning: The frame.append method is deprecated and will be removed from pandas in a future version. Use pandas.concat instead.\n",
      "  signals_df = signals_df.append({\n"
     ]
    },
    {
     "name": "stdout",
     "output_type": "stream",
     "text": [
      "Failed to execute buy order\n",
      "Failed to execute sell order\n"
     ]
    },
    {
     "name": "stderr",
     "output_type": "stream",
     "text": [
      "/var/folders/vm/6_hsdkkx0mvcy4lfpbfcsql40000gn/T/ipykernel_43483/576721178.py:43: FutureWarning: The frame.append method is deprecated and will be removed from pandas in a future version. Use pandas.concat instead.\n",
      "  executedsignals_df = signals_df.append({\n",
      "/var/folders/vm/6_hsdkkx0mvcy4lfpbfcsql40000gn/T/ipykernel_43483/576721178.py:62: FutureWarning: The frame.append method is deprecated and will be removed from pandas in a future version. Use pandas.concat instead.\n",
      "  signals_df = signals_df.append({\n"
     ]
    },
    {
     "name": "stdout",
     "output_type": "stream",
     "text": [
      "Failed to execute buy order\n",
      "Failed to execute sell order\n"
     ]
    },
    {
     "name": "stderr",
     "output_type": "stream",
     "text": [
      "/var/folders/vm/6_hsdkkx0mvcy4lfpbfcsql40000gn/T/ipykernel_43483/576721178.py:43: FutureWarning: The frame.append method is deprecated and will be removed from pandas in a future version. Use pandas.concat instead.\n",
      "  executedsignals_df = signals_df.append({\n",
      "/var/folders/vm/6_hsdkkx0mvcy4lfpbfcsql40000gn/T/ipykernel_43483/576721178.py:62: FutureWarning: The frame.append method is deprecated and will be removed from pandas in a future version. Use pandas.concat instead.\n",
      "  signals_df = signals_df.append({\n"
     ]
    },
    {
     "name": "stdout",
     "output_type": "stream",
     "text": [
      "Failed to execute buy order\n",
      "Failed to execute sell order\n"
     ]
    },
    {
     "name": "stderr",
     "output_type": "stream",
     "text": [
      "/var/folders/vm/6_hsdkkx0mvcy4lfpbfcsql40000gn/T/ipykernel_43483/576721178.py:43: FutureWarning: The frame.append method is deprecated and will be removed from pandas in a future version. Use pandas.concat instead.\n",
      "  executedsignals_df = signals_df.append({\n",
      "/var/folders/vm/6_hsdkkx0mvcy4lfpbfcsql40000gn/T/ipykernel_43483/576721178.py:62: FutureWarning: The frame.append method is deprecated and will be removed from pandas in a future version. Use pandas.concat instead.\n",
      "  signals_df = signals_df.append({\n"
     ]
    },
    {
     "name": "stdout",
     "output_type": "stream",
     "text": [
      "Failed to execute buy order\n",
      "Failed to execute sell order\n"
     ]
    },
    {
     "name": "stderr",
     "output_type": "stream",
     "text": [
      "/var/folders/vm/6_hsdkkx0mvcy4lfpbfcsql40000gn/T/ipykernel_43483/576721178.py:43: FutureWarning: The frame.append method is deprecated and will be removed from pandas in a future version. Use pandas.concat instead.\n",
      "  executedsignals_df = signals_df.append({\n",
      "/var/folders/vm/6_hsdkkx0mvcy4lfpbfcsql40000gn/T/ipykernel_43483/576721178.py:62: FutureWarning: The frame.append method is deprecated and will be removed from pandas in a future version. Use pandas.concat instead.\n",
      "  signals_df = signals_df.append({\n"
     ]
    },
    {
     "name": "stdout",
     "output_type": "stream",
     "text": [
      "Failed to execute buy order\n",
      "Failed to execute sell order\n"
     ]
    },
    {
     "name": "stderr",
     "output_type": "stream",
     "text": [
      "/var/folders/vm/6_hsdkkx0mvcy4lfpbfcsql40000gn/T/ipykernel_43483/576721178.py:43: FutureWarning: The frame.append method is deprecated and will be removed from pandas in a future version. Use pandas.concat instead.\n",
      "  executedsignals_df = signals_df.append({\n",
      "/var/folders/vm/6_hsdkkx0mvcy4lfpbfcsql40000gn/T/ipykernel_43483/576721178.py:62: FutureWarning: The frame.append method is deprecated and will be removed from pandas in a future version. Use pandas.concat instead.\n",
      "  signals_df = signals_df.append({\n"
     ]
    },
    {
     "name": "stdout",
     "output_type": "stream",
     "text": [
      "Failed to execute buy order\n",
      "Failed to execute sell order\n"
     ]
    },
    {
     "name": "stderr",
     "output_type": "stream",
     "text": [
      "/var/folders/vm/6_hsdkkx0mvcy4lfpbfcsql40000gn/T/ipykernel_43483/576721178.py:43: FutureWarning: The frame.append method is deprecated and will be removed from pandas in a future version. Use pandas.concat instead.\n",
      "  executedsignals_df = signals_df.append({\n",
      "/var/folders/vm/6_hsdkkx0mvcy4lfpbfcsql40000gn/T/ipykernel_43483/576721178.py:62: FutureWarning: The frame.append method is deprecated and will be removed from pandas in a future version. Use pandas.concat instead.\n",
      "  signals_df = signals_df.append({\n"
     ]
    },
    {
     "name": "stdout",
     "output_type": "stream",
     "text": [
      "Failed to execute buy order\n",
      "Failed to execute sell order\n"
     ]
    },
    {
     "name": "stderr",
     "output_type": "stream",
     "text": [
      "/var/folders/vm/6_hsdkkx0mvcy4lfpbfcsql40000gn/T/ipykernel_43483/576721178.py:43: FutureWarning: The frame.append method is deprecated and will be removed from pandas in a future version. Use pandas.concat instead.\n",
      "  executedsignals_df = signals_df.append({\n",
      "/var/folders/vm/6_hsdkkx0mvcy4lfpbfcsql40000gn/T/ipykernel_43483/576721178.py:62: FutureWarning: The frame.append method is deprecated and will be removed from pandas in a future version. Use pandas.concat instead.\n",
      "  signals_df = signals_df.append({\n"
     ]
    },
    {
     "name": "stdout",
     "output_type": "stream",
     "text": [
      "Failed to execute buy order\n",
      "Failed to execute sell order\n"
     ]
    },
    {
     "name": "stderr",
     "output_type": "stream",
     "text": [
      "/var/folders/vm/6_hsdkkx0mvcy4lfpbfcsql40000gn/T/ipykernel_43483/576721178.py:43: FutureWarning: The frame.append method is deprecated and will be removed from pandas in a future version. Use pandas.concat instead.\n",
      "  executedsignals_df = signals_df.append({\n",
      "/var/folders/vm/6_hsdkkx0mvcy4lfpbfcsql40000gn/T/ipykernel_43483/576721178.py:62: FutureWarning: The frame.append method is deprecated and will be removed from pandas in a future version. Use pandas.concat instead.\n",
      "  signals_df = signals_df.append({\n"
     ]
    }
   ],
   "source": [
    "import time\n",
    "import pandas as pd\n",
    "from datetime import datetime\n",
    "\n",
    "# Code to be iterated for a minute\n",
    "start_time = time.time()\n",
    "end_time = start_time + 60  # 60 seconds = 1 minute\n",
    "executedsignals_df = pd.DataFrame(columns=['Timestamp', 'Readable Time', 'Signal', 'Price', 'Amount'])\n",
    "\n",
    "while True:\n",
    "    # Check if the current time exceeds the end time\n",
    "    if time.time() >= end_time:\n",
    "        break\n",
    "\n",
    "    # Define buy and sell signals based on moving averages and HP filter\n",
    "    # ...\n",
    "\n",
    "    capital = 10  # Initial capital\n",
    "    position = 0  # Current position (0: no position, 1: long position, -1: short position)\n",
    "    buy_price = 0  # Price at which the position is bought\n",
    "    sell_price = 0  # Price at which the position is sold\n",
    "\n",
    "    for i in range(len(data)):\n",
    "        # Check if the current time exceeds the end time\n",
    "        if time.time() >= end_time:\n",
    "            break\n",
    "\n",
    "        close_price = data['close'].iloc[i]\n",
    "        buy_signal = data['buy_signal'].iloc[i]\n",
    "        sell_signal = data['sell_signal'].iloc[i]\n",
    "\n",
    "        # Step 5.3: Buy signal\n",
    "        if buy_signal == 1 and position == 0:\n",
    "            position = 1  # Enter long position\n",
    "            buy_price = close_price\n",
    "            buy_amount = buy_params['amount']  # Retrieve the buy amount from the buy_params\n",
    "            buy(buy_params)\n",
    "            timestamp = time.time()\n",
    "            readable_time = datetime.fromtimestamp(timestamp).strftime('%Y-%m-%d %H:%M:%S')\n",
    "\n",
    "            # Check if the buy order was executed successfully\n",
    "            if 'result' in response_json:\n",
    "                executedsignals_df = signals_df.append({\n",
    "                    'Timestamp': timestamp,\n",
    "                    'Readable Time': readable_time,\n",
    "                    'Signal': 'Buy',\n",
    "                    'Price': buy_price,\n",
    "                    'Amount': buy_amount\n",
    "                }, ignore_index=True)\n",
    "\n",
    "        # Step 5.4: Sell signal\n",
    "        elif sell_signal == 1 and position == 1:\n",
    "            position = 0  # Exit long position\n",
    "            sell_price = close_price\n",
    "            sell_amount = sell_params['amount']  # Retrieve the sell amount from the sell_params\n",
    "            sell(sell_params)\n",
    "            timestamp = time.time()\n",
    "            readable_time = datetime.fromtimestamp(timestamp).strftime('%Y-%m-%d %H:%M:%S')\n",
    "\n",
    "            # Check if the sell order was executed successfully\n",
    "            if 'result' in response_json:\n",
    "                signals_df = signals_df.append({\n",
    "                    'Timestamp': timestamp,\n",
    "                    'Readable Time': readable_time,\n",
    "                    'Signal': 'Sell',\n",
    "                    'Price': sell_price,\n",
    "                    'Amount': sell_amount\n",
    "                }, ignore_index=True)\n",
    "\n",
    "                # Calculate profit/loss and update capital\n",
    "                profit_loss = sell_price - buy_price\n",
    "                capital += profit_loss\n",
    "\n",
    "    time.sleep(30)\n",
    "\n",
    "# Export the signals DataFrame to a CSV file\n",
    "executedsignals_df.to_csv('executedsignals.csv', mode='a', header=False, index=False)\n",
    "print(\"Signals exported to signals.csv file.\")\n"
   ]
  },
  {
   "cell_type": "code",
   "execution_count": 21,
   "id": "4f39dd4f",
   "metadata": {},
   "outputs": [
    {
     "name": "stdout",
     "output_type": "stream",
     "text": [
      "Failed to execute sell order\n"
     ]
    }
   ],
   "source": [
    "def sell(sell_params):\n",
    "    # Define the URL of the endpoint \n",
    "    url = \"https://www.deribit.com/api/v2/private/sell\"\n",
    "\n",
    "    # Send the GET request with authentication\n",
    "    response = requests.get(url, params=sell_params, auth=(ClientID, ClientSecret))\n",
    "    response_json = response.json()\n",
    "\n",
    "    if 'result' in response_json:\n",
    "        print(\"Sell order successfully executed\")\n",
    "    else:\n",
    "        print(\"Failed to execute sell order\")\n",
    "\n",
    "# Define the sell parameters\n",
    "sell_params = {\n",
    "    \"amount\": 1,\n",
    "    \"instrument_name\": \"BTC-PERPETUAL\",\n",
    "    \"type\": \"market\"\n",
    "}\n",
    "\n",
    "# Call the sell function with the sell parameters\n",
    "sell(sell_params)\n"
   ]
  }
 ],
 "metadata": {
  "kernelspec": {
   "display_name": "Python 3 (ipykernel)",
   "language": "python",
   "name": "python3"
  },
  "language_info": {
   "codemirror_mode": {
    "name": "ipython",
    "version": 3
   },
   "file_extension": ".py",
   "mimetype": "text/x-python",
   "name": "python",
   "nbconvert_exporter": "python",
   "pygments_lexer": "ipython3",
   "version": "3.10.9"
  }
 },
 "nbformat": 4,
 "nbformat_minor": 5
}
